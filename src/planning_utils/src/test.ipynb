{
 "cells": [
  {
   "cell_type": "markdown",
   "metadata": {},
   "source": [
    "## improt libraries"
   ]
  },
  {
   "cell_type": "code",
   "execution_count": 25,
   "metadata": {},
   "outputs": [
    {
     "name": "stdout",
     "output_type": "stream",
     "text": [
      "Using matplotlib backend: TkAgg\n"
     ]
    }
   ],
   "source": [
    "%matplotlib"
   ]
  },
  {
   "cell_type": "code",
   "execution_count": 26,
   "metadata": {},
   "outputs": [],
   "source": [
    "import numpy as np\n",
    "import matplotlib.pyplot as plt\n",
    "import rospkg\n",
    "import scipy.io as savemat\n",
    "import sys"
   ]
  },
  {
   "cell_type": "code",
   "execution_count": 27,
   "metadata": {},
   "outputs": [],
   "source": [
    "curve_generator_path = rospkg.RosPack().get_path('curve_generator') + '/src'\n",
    "sys.path.append(curve_generator_path)\n",
    "\n",
    "from CurveGen import CurveGen"
   ]
  },
  {
   "cell_type": "markdown",
   "metadata": {},
   "source": [
    "## curve process"
   ]
  },
  {
   "cell_type": "markdown",
   "metadata": {},
   "source": [
    "### generate curve and save the data "
   ]
  },
  {
   "cell_type": "code",
   "execution_count": 28,
   "metadata": {},
   "outputs": [],
   "source": [
    "curve_name = 'curve'\n",
    "cg = CurveGen()\n",
    "data_path = rospkg.RosPack().get_path('planning_utils') + '/data'\n",
    "cg.saveCurve(data_path + '/' + curve_name + '.json')"
   ]
  },
  {
   "cell_type": "code",
   "execution_count": 29,
   "metadata": {},
   "outputs": [],
   "source": [
    "cg.visualizeCurve()"
   ]
  },
  {
   "cell_type": "markdown",
   "metadata": {},
   "source": [
    "### generate u-v mesh data and se3 mesh data from the curve"
   ]
  },
  {
   "cell_type": "code",
   "execution_count": 30,
   "metadata": {},
   "outputs": [],
   "source": [
    "import matplotlib.pyplot as plt\n",
    "# the segmentation of the uv curve\n",
    "cg.curve.delta = 0.01\n",
    "cg.curve.evaluate()\n",
    "curve_points = cg.curve.evalpts\n",
    "curve_points = np.array(curve_points)\n",
    "x = curve_points[:,0]\n",
    "y = curve_points[:,1]\n",
    "z = curve_points[:,2]\n"
   ]
  },
  {
   "cell_type": "code",
   "execution_count": 31,
   "metadata": {},
   "outputs": [],
   "source": [
    "cur_ls = []\n",
    "norm_ls = []\n",
    "pos_ls = []\n",
    "deriv_u_ls = []\n",
    "deriv_v_ls = []\n",
    "\n",
    "resol = 0.01\n",
    "for i in range(20,80):\n",
    "    for j in range(20,80):\n",
    "        cur_ls.append(cg.getPointCurvature(i*resol, j*resol))\n",
    "        norm_ls.append(cg.getPointNormal(i*resol, j*resol))\n",
    "        pos_ls.append(cg.getPointPos(i*resol, j*resol))\n",
    "        deriv = cg.getPointDeriv(i*resol, j*resol)\n",
    "        deriv_u_ls.append(deriv[1][0])\n",
    "        deriv_v_ls.append(deriv[0][1])\n",
    "        \n",
    "\n"
   ]
  },
  {
   "cell_type": "code",
   "execution_count": 32,
   "metadata": {},
   "outputs": [],
   "source": [
    "from scipy.io import savemat\n",
    "\n",
    "savemat(data_path+'/'+curve_name+'.mat', {'cur_ls': cur_ls,\n",
    "                                       'norm_ls': norm_ls,\n",
    "                                       'pos_ls': pos_ls,\n",
    "                                       'deriv_u_ls':deriv_u_ls,\n",
    "                                       'deriv_v_ls':deriv_v_ls,})"
   ]
  }
 ],
 "metadata": {
  "kernelspec": {
   "display_name": "Python 3",
   "language": "python",
   "name": "python3"
  },
  "language_info": {
   "codemirror_mode": {
    "name": "ipython",
    "version": 3
   },
   "file_extension": ".py",
   "mimetype": "text/x-python",
   "name": "python",
   "nbconvert_exporter": "python",
   "pygments_lexer": "ipython3",
   "version": "3.8.10"
  }
 },
 "nbformat": 4,
 "nbformat_minor": 2
}
